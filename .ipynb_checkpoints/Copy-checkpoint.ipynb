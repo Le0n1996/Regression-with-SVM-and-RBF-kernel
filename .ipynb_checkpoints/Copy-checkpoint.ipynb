{
 "cells": [
  {
   "cell_type": "markdown",
   "metadata": {},
   "source": [
    "# Домашняя работа №1"
   ]
  },
  {
   "cell_type": "markdown",
   "metadata": {},
   "source": [
    "**Срок сдачи:** 30 сентября 2016, 23:59 <br\\>\n",
    "\n",
    "При отправлении ДЗ на почту указывайте фамилию в названии файла, а тему письма оформляйте в следующем формате: <br\\>\n",
    "** [ИАД] *{Фамилия}* *{Имя}* ДЗ*{Номер}* **<br\\>\n",
    "\n",
    "\n",
    "Сопровождайте ваш код изображеними, комментариями и выводами. <br\\>\n",
    "Иммейте ввиду, что на некоторые задачи нет единственного верного и полного ответа. Чем больше информации вы сможете извлечь, аргументированных выводов сформулировать, тем лучше.\n",
    "\n",
    "Используйте данный Ipython Notebook при оформлении домашнего задания."
   ]
  },
  {
   "cell_type": "markdown",
   "metadata": {
    "toc": "true"
   },
   "source": [
    "# Table of Contents\n",
    " <p><div class=\"lev1 toc-item\"><a data-toc-modified-id=\"Домашняя-работа-№1-1\" href=\"#Домашняя-работа-№1\"><span class=\"toc-item-num\">1&nbsp;&nbsp;</span>Домашняя работа №1</a></div><div class=\"lev1 toc-item\"><a data-toc-modified-id=\"Регрессия-с-SVM-(3-балла)-2\" href=\"#Регрессия-с-SVM-(3-балла)\"><span class=\"toc-item-num\">2&nbsp;&nbsp;</span>Регрессия с SVM (3 балла)</a></div><div class=\"lev2 toc-item\"><a data-toc-modified-id=\"Визуализация-данных-(1-балл)-2.1\" href=\"#Визуализация-данных-(1-балл)\"><span class=\"toc-item-num\">2.1&nbsp;&nbsp;</span>Визуализация данных (1 балл)</a></div><div class=\"lev2 toc-item\"><a data-toc-modified-id=\"Обучение-моделей-(2-балла)-2.2\" href=\"#Обучение-моделей-(2-балла)\"><span class=\"toc-item-num\">2.2&nbsp;&nbsp;</span>Обучение моделей (2 балла)</a></div><div class=\"lev1 toc-item\"><a data-toc-modified-id=\"Определение-языка-слова-(7-баллов)-3\" href=\"#Определение-языка-слова-(7-баллов)\"><span class=\"toc-item-num\">3&nbsp;&nbsp;</span>Определение языка слова (7 баллов)</a></div><div class=\"lev2 toc-item\"><a data-toc-modified-id=\"Загрузка-(1-балл)-3.1\" href=\"#Загрузка-(1-балл)\"><span class=\"toc-item-num\">3.1&nbsp;&nbsp;</span>Загрузка (1 балл)</a></div><div class=\"lev2 toc-item\"><a data-toc-modified-id=\"Подготовка-данных-(2-балла)-3.2\" href=\"#Подготовка-данных-(2-балла)\"><span class=\"toc-item-num\">3.2&nbsp;&nbsp;</span>Подготовка данных (2 балла)</a></div><div class=\"lev2 toc-item\"><a data-toc-modified-id=\"Расчет-ядра-(3-балла)-3.3\" href=\"#Расчет-ядра-(3-балла)\"><span class=\"toc-item-num\">3.3&nbsp;&nbsp;</span>Расчет ядра (3 балла)</a></div><div class=\"lev2 toc-item\"><a data-toc-modified-id=\"Оценка-качества-(1-балл)-3.4\" href=\"#Оценка-качества-(1-балл)\"><span class=\"toc-item-num\">3.4&nbsp;&nbsp;</span>Оценка качества (1 балл)</a></div>"
   ]
  },
  {
   "cell_type": "code",
   "execution_count": 2,
   "metadata": {},
   "outputs": [],
   "source": [
    "import numpy as np\n",
    "import pandas as pd\n",
    "import scipy as sp\n",
    "import pylab as plt\n",
    "import random\n",
    "import math\n",
    "import matplotlib\n",
    "import matplotlib.pyplot as plt\n",
    "\n",
    "from sklearn import svm\n",
    "from sklearn.svm import SVC\n",
    "from pylab import *\n",
    "from random import random\n",
    "from sklearn import model_selection\n",
    "\n",
    "\n",
    "%matplotlib inline"
   ]
  },
  {
   "cell_type": "code",
   "execution_count": 3,
   "metadata": {},
   "outputs": [],
   "source": [
    "plt.style.use('ggplot')\n",
    "plt.rcParams['figure.figsize'] = (10, 7)"
   ]
  },
  {
   "cell_type": "markdown",
   "metadata": {},
   "source": [
    "# Регрессия с SVM (3 балла)"
   ]
  },
  {
   "cell_type": "markdown",
   "metadata": {},
   "source": [
    "SVM можно использовать и для задачи регрессии.\n",
    "\n",
    "Загрузите набор данных из *titanium.csv*<br/>\n",
    "Будем решать задачу восстановления столбца 'y' по столбцу 'x'."
   ]
  },
  {
   "cell_type": "code",
   "execution_count": 5,
   "metadata": {},
   "outputs": [
    {
     "data": {
      "text/html": [
       "<div>\n",
       "<style scoped>\n",
       "    .dataframe tbody tr th:only-of-type {\n",
       "        vertical-align: middle;\n",
       "    }\n",
       "\n",
       "    .dataframe tbody tr th {\n",
       "        vertical-align: top;\n",
       "    }\n",
       "\n",
       "    .dataframe thead th {\n",
       "        text-align: right;\n",
       "    }\n",
       "</style>\n",
       "<table border=\"1\" class=\"dataframe\">\n",
       "  <thead>\n",
       "    <tr style=\"text-align: right;\">\n",
       "      <th></th>\n",
       "      <th>x</th>\n",
       "      <th>y</th>\n",
       "    </tr>\n",
       "  </thead>\n",
       "  <tbody>\n",
       "    <tr>\n",
       "      <th>0</th>\n",
       "      <td>585.0</td>\n",
       "      <td>0.644</td>\n",
       "    </tr>\n",
       "    <tr>\n",
       "      <th>1</th>\n",
       "      <td>595.0</td>\n",
       "      <td>0.622</td>\n",
       "    </tr>\n",
       "    <tr>\n",
       "      <th>2</th>\n",
       "      <td>605.0</td>\n",
       "      <td>0.638</td>\n",
       "    </tr>\n",
       "    <tr>\n",
       "      <th>3</th>\n",
       "      <td>615.0</td>\n",
       "      <td>0.649</td>\n",
       "    </tr>\n",
       "    <tr>\n",
       "      <th>4</th>\n",
       "      <td>625.0</td>\n",
       "      <td>0.652</td>\n",
       "    </tr>\n",
       "  </tbody>\n",
       "</table>\n",
       "</div>"
      ],
      "text/plain": [
       "       x      y\n",
       "0  585.0  0.644\n",
       "1  595.0  0.622\n",
       "2  605.0  0.638\n",
       "3  615.0  0.649\n",
       "4  625.0  0.652"
      ]
     },
     "execution_count": 5,
     "metadata": {},
     "output_type": "execute_result"
    }
   ],
   "source": [
    "F = pd.read_csv('/Users/novle/Documents/GitHub/Binary-classification-problem--language-recognition-/titanium.csv')\n",
    "F.head() #Выгрузим данные и посмотрим на них"
   ]
  },
  {
   "cell_type": "code",
   "execution_count": 6,
   "metadata": {},
   "outputs": [
    {
     "data": {
      "text/plain": [
       "(49, 2)"
      ]
     },
     "execution_count": 6,
     "metadata": {},
     "output_type": "execute_result"
    }
   ],
   "source": [
    "F.shape #Размер DF"
   ]
  },
  {
   "cell_type": "code",
   "execution_count": 7,
   "metadata": {},
   "outputs": [
    {
     "data": {
      "text/html": [
       "<div>\n",
       "<style scoped>\n",
       "    .dataframe tbody tr th:only-of-type {\n",
       "        vertical-align: middle;\n",
       "    }\n",
       "\n",
       "    .dataframe tbody tr th {\n",
       "        vertical-align: top;\n",
       "    }\n",
       "\n",
       "    .dataframe thead th {\n",
       "        text-align: right;\n",
       "    }\n",
       "</style>\n",
       "<table border=\"1\" class=\"dataframe\">\n",
       "  <thead>\n",
       "    <tr style=\"text-align: right;\">\n",
       "      <th></th>\n",
       "      <th>x</th>\n",
       "      <th>y</th>\n",
       "    </tr>\n",
       "  </thead>\n",
       "  <tbody>\n",
       "    <tr>\n",
       "      <th>count</th>\n",
       "      <td>49.000000</td>\n",
       "      <td>49.000000</td>\n",
       "    </tr>\n",
       "    <tr>\n",
       "      <th>mean</th>\n",
       "      <td>825.000000</td>\n",
       "      <td>0.804592</td>\n",
       "    </tr>\n",
       "    <tr>\n",
       "      <th>std</th>\n",
       "      <td>142.886902</td>\n",
       "      <td>0.375022</td>\n",
       "    </tr>\n",
       "    <tr>\n",
       "      <th>min</th>\n",
       "      <td>585.000000</td>\n",
       "      <td>0.601000</td>\n",
       "    </tr>\n",
       "    <tr>\n",
       "      <th>25%</th>\n",
       "      <td>705.000000</td>\n",
       "      <td>0.627000</td>\n",
       "    </tr>\n",
       "    <tr>\n",
       "      <th>50%</th>\n",
       "      <td>825.000000</td>\n",
       "      <td>0.663000</td>\n",
       "    </tr>\n",
       "    <tr>\n",
       "      <th>75%</th>\n",
       "      <td>945.000000</td>\n",
       "      <td>0.730000</td>\n",
       "    </tr>\n",
       "    <tr>\n",
       "      <th>max</th>\n",
       "      <td>1065.000000</td>\n",
       "      <td>2.169000</td>\n",
       "    </tr>\n",
       "  </tbody>\n",
       "</table>\n",
       "</div>"
      ],
      "text/plain": [
       "                 x          y\n",
       "count    49.000000  49.000000\n",
       "mean    825.000000   0.804592\n",
       "std     142.886902   0.375022\n",
       "min     585.000000   0.601000\n",
       "25%     705.000000   0.627000\n",
       "50%     825.000000   0.663000\n",
       "75%     945.000000   0.730000\n",
       "max    1065.000000   2.169000"
      ]
     },
     "execution_count": 7,
     "metadata": {},
     "output_type": "execute_result"
    }
   ],
   "source": [
    "F.describe() #Посмотрим на статистику по нашим данным"
   ]
  },
  {
   "cell_type": "markdown",
   "metadata": {},
   "source": [
    "## Визуализация данных (1 балл)"
   ]
  },
  {
   "cell_type": "markdown",
   "metadata": {},
   "source": [
    "Выполните стандартную предобработку данных и выведите их на графике."
   ]
  },
  {
   "cell_type": "code",
   "execution_count": 8,
   "metadata": {},
   "outputs": [
    {
     "name": "stdout",
     "output_type": "stream",
     "text": [
      "0 rows have missing values\n"
     ]
    }
   ],
   "source": [
    "nans = F.shape[0] - F.dropna().shape[0]\n",
    "print('%d rows have missing values' % nans) # Проверяем наличие пропусков в данных, \n",
    "                                            # в данном случае пропусков нет, всё ок"
   ]
  },
  {
   "cell_type": "code",
   "execution_count": 9,
   "metadata": {
    "scrolled": true
   },
   "outputs": [
    {
     "data": {
      "text/html": [
       "<div>\n",
       "<style scoped>\n",
       "    .dataframe tbody tr th:only-of-type {\n",
       "        vertical-align: middle;\n",
       "    }\n",
       "\n",
       "    .dataframe tbody tr th {\n",
       "        vertical-align: top;\n",
       "    }\n",
       "\n",
       "    .dataframe thead th {\n",
       "        text-align: right;\n",
       "    }\n",
       "</style>\n",
       "<table border=\"1\" class=\"dataframe\">\n",
       "  <thead>\n",
       "    <tr style=\"text-align: right;\">\n",
       "      <th></th>\n",
       "      <th>x</th>\n",
       "      <th>y</th>\n",
       "      <th>x_zscore</th>\n",
       "      <th>y_zscore</th>\n",
       "    </tr>\n",
       "  </thead>\n",
       "  <tbody>\n",
       "    <tr>\n",
       "      <th>0</th>\n",
       "      <td>585.0</td>\n",
       "      <td>0.644</td>\n",
       "      <td>-1.679650</td>\n",
       "      <td>-0.428220</td>\n",
       "    </tr>\n",
       "    <tr>\n",
       "      <th>1</th>\n",
       "      <td>595.0</td>\n",
       "      <td>0.622</td>\n",
       "      <td>-1.609665</td>\n",
       "      <td>-0.486883</td>\n",
       "    </tr>\n",
       "    <tr>\n",
       "      <th>2</th>\n",
       "      <td>605.0</td>\n",
       "      <td>0.638</td>\n",
       "      <td>-1.539679</td>\n",
       "      <td>-0.444219</td>\n",
       "    </tr>\n",
       "    <tr>\n",
       "      <th>3</th>\n",
       "      <td>615.0</td>\n",
       "      <td>0.649</td>\n",
       "      <td>-1.469694</td>\n",
       "      <td>-0.414887</td>\n",
       "    </tr>\n",
       "    <tr>\n",
       "      <th>4</th>\n",
       "      <td>625.0</td>\n",
       "      <td>0.652</td>\n",
       "      <td>-1.399708</td>\n",
       "      <td>-0.406888</td>\n",
       "    </tr>\n",
       "  </tbody>\n",
       "</table>\n",
       "</div>"
      ],
      "text/plain": [
       "       x      y  x_zscore  y_zscore\n",
       "0  585.0  0.644 -1.679650 -0.428220\n",
       "1  595.0  0.622 -1.609665 -0.486883\n",
       "2  605.0  0.638 -1.539679 -0.444219\n",
       "3  615.0  0.649 -1.469694 -0.414887\n",
       "4  625.0  0.652 -1.399708 -0.406888"
      ]
     },
     "execution_count": 9,
     "metadata": {},
     "output_type": "execute_result"
    }
   ],
   "source": [
    "cols = list(F.columns)\n",
    "for col in cols:\n",
    "    col_zscore = col + '_zscore'\n",
    "    F[col_zscore] = (F[col] - F[col].mean())/F[col].std() # нормализуем данные, используя z-score\n",
    "F.head()[::]"
   ]
  },
  {
   "cell_type": "code",
   "execution_count": 10,
   "metadata": {},
   "outputs": [],
   "source": [
    "F.drop(['x', 'y'], axis=1, inplace=True)"
   ]
  },
  {
   "cell_type": "code",
   "execution_count": 11,
   "metadata": {},
   "outputs": [
    {
     "data": {
      "text/html": [
       "<div>\n",
       "<style scoped>\n",
       "    .dataframe tbody tr th:only-of-type {\n",
       "        vertical-align: middle;\n",
       "    }\n",
       "\n",
       "    .dataframe tbody tr th {\n",
       "        vertical-align: top;\n",
       "    }\n",
       "\n",
       "    .dataframe thead th {\n",
       "        text-align: right;\n",
       "    }\n",
       "</style>\n",
       "<table border=\"1\" class=\"dataframe\">\n",
       "  <thead>\n",
       "    <tr style=\"text-align: right;\">\n",
       "      <th></th>\n",
       "      <th>x_zscore</th>\n",
       "      <th>y_zscore</th>\n",
       "    </tr>\n",
       "  </thead>\n",
       "  <tbody>\n",
       "    <tr>\n",
       "      <th>0</th>\n",
       "      <td>-1.679650</td>\n",
       "      <td>-0.428220</td>\n",
       "    </tr>\n",
       "    <tr>\n",
       "      <th>1</th>\n",
       "      <td>-1.609665</td>\n",
       "      <td>-0.486883</td>\n",
       "    </tr>\n",
       "    <tr>\n",
       "      <th>2</th>\n",
       "      <td>-1.539679</td>\n",
       "      <td>-0.444219</td>\n",
       "    </tr>\n",
       "    <tr>\n",
       "      <th>3</th>\n",
       "      <td>-1.469694</td>\n",
       "      <td>-0.414887</td>\n",
       "    </tr>\n",
       "    <tr>\n",
       "      <th>4</th>\n",
       "      <td>-1.399708</td>\n",
       "      <td>-0.406888</td>\n",
       "    </tr>\n",
       "  </tbody>\n",
       "</table>\n",
       "</div>"
      ],
      "text/plain": [
       "   x_zscore  y_zscore\n",
       "0 -1.679650 -0.428220\n",
       "1 -1.609665 -0.486883\n",
       "2 -1.539679 -0.444219\n",
       "3 -1.469694 -0.414887\n",
       "4 -1.399708 -0.406888"
      ]
     },
     "execution_count": 11,
     "metadata": {},
     "output_type": "execute_result"
    }
   ],
   "source": [
    "F.head()[::]"
   ]
  },
  {
   "cell_type": "code",
   "execution_count": 12,
   "metadata": {},
   "outputs": [
    {
     "data": {
      "text/plain": [
       "<matplotlib.axes._subplots.AxesSubplot at 0x18247c6ff60>"
      ]
     },
     "execution_count": 12,
     "metadata": {},
     "output_type": "execute_result"
    },
    {
     "data": {
      "image/png": "[encoded data removed]",
      "text/plain": [
       "<Figure size 1000x700 with 1 Axes>"
      ]
     },
     "metadata": {},
     "output_type": "display_data"
    }
   ],
   "source": [
    "F.plot(x = 'x_zscore', y = 'y_zscore', style = 'o') # Визуализируем значения DF: по оси OX откладываем значения из столбца \"х_zscore\",\n",
    "                                      # по оси OY соответствующие значения из столбца \"y_zscore\""
   ]
  },
  {
   "cell_type": "markdown",
   "metadata": {},
   "source": [
    "## Обучение моделей (2 балла)"
   ]
  },
  {
   "cell_type": "markdown",
   "metadata": {},
   "source": [
    "Рассмотрим 3 ядра: \n",
    "* Линейное\n",
    "* Полиномиальное (degree = 3, gamma = 6, coef0 = 1)\n",
    "* RBF (gamma = 6, coef0 = 1)\n",
    "\n",
    "Во всех случаях установите точность алгоритма оптимизации `epsilon=0.01`\n",
    "\n",
    "Для каждого из ядер:\n",
    "1. Постройте графики зависимости ошибки от параметра $C$ (ось графика со значениями параметра $C$ должна быть в логарифмической шкале). Ошибка измеряется как средняя абсолютная ошибка. \n",
    "2. Для наилучшего параметра $C$ постройте график с данными и предсказанием с помощью SVM.\n",
    "\n",
    "В каких случаях возникают эффекты недообучения, переобучения?"
   ]
  },
  {
   "cell_type": "code",
   "execution_count": 14,
   "metadata": {},
   "outputs": [
    {
     "data": {
      "text/plain": [
       "(49, 1)"
      ]
     },
     "execution_count": 14,
     "metadata": {},
     "output_type": "execute_result"
    }
   ],
   "source": [
    "X = F['x_zscore']\n",
    "X = X.values.reshape(len(X), 1)\n",
    "X.shape"
   ]
  },
  {
   "cell_type": "code",
   "execution_count": 15,
   "metadata": {},
   "outputs": [
    {
     "data": {
      "text/plain": [
       "(49,)"
      ]
     },
     "execution_count": 15,
     "metadata": {},
     "output_type": "execute_result"
    }
   ],
   "source": [
    "y = np.asarray(F['y_zscore']) #, dtype=\"|S6\"\n",
    "y.shape"
   ]
  },
  {
   "cell_type": "markdown",
   "metadata": {},
   "source": [
    "# Linear Kernel"
   ]
  },
  {
   "cell_type": "code",
   "execution_count": 18,
   "metadata": {},
   "outputs": [
    {
     "data": {
      "image/png": "[encoded data removed]",
      "text/plain": [
       "<Figure size 1000x700 with 1 Axes>"
      ]
     },
     "metadata": {},
     "output_type": "display_data"
    }
   ],
   "source": [
    "svr_lin = svm.SVR(kernel = 'linear', epsilon = 0.01) #Рассмотрим SVM с линейным ядром \n",
    "svr_lin.fit(X, y) #Обучимся на данных Х и у\n",
    "\n",
    "#Визуализируем предсказанные значения и исходные данные. С данными параметрами SVM с линейным ядром работает плохо.\n",
    "plt.scatter(X, y, c = [[1, 0, 0]], label = 'y(x)') \n",
    "plt.plot(X, svr_lin.predict(X), c = 'y', label = 'predictions') \n",
    "plt.legend()\n",
    "plt.show()"
   ]
  },
  {
   "cell_type": "markdown",
   "metadata": {},
   "source": [
    "# Polynomial Kernel"
   ]
  },
  {
   "cell_type": "code",
   "execution_count": 21,
   "metadata": {},
   "outputs": [
    {
     "name": "stdout",
     "output_type": "stream",
     "text": [
      "0.03613010802804428\n"
     ]
    },
    {
     "data": {
      "image/png": "[encoded data removed]",
      "text/plain": [
       "<Figure size 1000x700 with 1 Axes>"
      ]
     },
     "metadata": {},
     "output_type": "display_data"
    }
   ],
   "source": [
    "svr_poly = svm.SVR(kernel = 'poly', epsilon = 0.01, degree = 3, gamma = 6, coef0 = 1) \n",
    "# Используем svm.SVR с полиномиальным ядром\n",
    "svr_poly.fit(X, y) # Обучаемся на данных\n",
    "print(svr_poly.score(X,y)) # Посмотрим на значение R^2 для заданных параметров svm.SVR с полиномиальным ядром\n",
    "\n",
    "#Визуализируем предсказание и исходные данные\n",
    "plt.scatter(X, y, c = [[1, 0, 0]], label = 'y(x)') \n",
    "plt.plot(X, svr_poly.predict(X), c = 'y', label = 'predictions') \n",
    "plt.legend()\n",
    "plt.show()"
   ]
  },
  {
   "cell_type": "markdown",
   "metadata": {},
   "source": [
    "# RBF Kernel"
   ]
  },
  {
   "cell_type": "code",
   "execution_count": 22,
   "metadata": {
    "scrolled": false
   },
   "outputs": [
    {
     "name": "stdout",
     "output_type": "stream",
     "text": [
      "0.8357011923302573\n"
     ]
    },
    {
     "data": {
      "image/png": "[encoded data removed]",
      "text/plain": [
       "<Figure size 1000x700 with 1 Axes>"
      ]
     },
     "metadata": {},
     "output_type": "display_data"
    }
   ],
   "source": [
    "svr_rbf = svm.SVR(kernel = 'rbf', epsilon = 0.01, gamma = 6, coef0 = 1) \n",
    "#Используем SVM с ядром Radial Basis Function(RBF)\n",
    "svr_rbf.fit(X, y) # Обучаем модель на заданных Х и у\n",
    "print(svr_rbf.score(X,y)) # Посмотрим на значение R^2 для данной модели\n",
    "\n",
    "#Визуализируем предсказанные значения и исходные данные\n",
    "plt.scatter(X, y, c = [[1, 0, 0]], label = 'y(x)') \n",
    "plt.plot(X, svr_rbf.predict(X), c = 'y' ,label = 'predictions') \n",
    "plt.legend()\n",
    "plt.show()"
   ]
  },
  {
   "cell_type": "markdown",
   "metadata": {},
   "source": [
    "# График зависимости ошибки от параметра C"
   ]
  },
  {
   "cell_type": "code",
   "execution_count": 23,
   "metadata": {},
   "outputs": [],
   "source": [
    "from sklearn.metrics import mean_absolute_error"
   ]
  },
  {
   "cell_type": "code",
   "execution_count": 24,
   "metadata": {},
   "outputs": [
    {
     "data": {
      "image/png": "[encoded data removed]",
      "text/plain": [
       "<Figure size 1000x700 with 1 Axes>"
      ]
     },
     "metadata": {},
     "output_type": "display_data"
    }
   ],
   "source": [
    "# Создаём пустые массивы, в которые на каждом шаге i будем записывать значения ошибок \n",
    "# каждой из трёх предложенных моделей, предварительно обучая их на заданных Х и у\n",
    "\n",
    "m_lin = []\n",
    "m_poly = []\n",
    "m_rbf = []\n",
    "\n",
    "c = 10.0 ** np.arange(-4, 4) \n",
    "for i in c:\n",
    "    svr_lin = svm.SVR(kernel='linear', C = i, epsilon = 0.01, degree=3, gamma = 6, coef0 = 1)\n",
    "    svr_lin.fit(X, y)\n",
    "    m_lin.append(mean_absolute_error(y, svr_lin.predict(X)))\n",
    "    \n",
    "    svr_poly = svm.SVR(kernel='poly', C = i, epsilon = 0.01, degree=3, gamma = 6, coef0 = 1)\n",
    "    svr_poly.fit(X, y)\n",
    "    m_poly.append(mean_absolute_error(y, svr_poly.predict(X)))\n",
    "    \n",
    "    svr_rbf = svm.SVR(kernel='rbf', C = i, epsilon = 0.01, gamma = 6, coef0 = 1)\n",
    "    svr_rbf.fit(X, y)\n",
    "    m_rbf.append(mean_absolute_error(y, svr_rbf.predict(X)))\n",
    "\n",
    "# Построим графики зависимости ошибок от параметра С для каждой модели\n",
    "plt.plot(c, m_lin ,label = 'score_lin') \n",
    "plt.plot(c, m_poly ,label = 'score_poly') \n",
    "plt.plot(c, m_rbf ,label = 'score_rbf') \n",
    "plt.xscale('log') # Делаем ось Х в логарифмической шкале\n",
    "plt.legend()\n",
    "plt.show()"
   ]
  },
  {
   "cell_type": "markdown",
   "metadata": {},
   "source": [
    "Лучше всех с предсказанием у по Х справляется SVM с ядром RBF (R^2 принимает значания от 0.83 и выше). Остальные модели не справляются с этой задачей вовсе (SVM с линейным ядром), или же очень плохо (SVM с полиномиальным ядром)"
   ]
  },
  {
   "cell_type": "markdown",
   "metadata": {},
   "source": [
    "# Выбор наилучшего С"
   ]
  },
  {
   "cell_type": "code",
   "execution_count": 31,
   "metadata": {},
   "outputs": [],
   "source": [
    "# y.reshape(-1,1)"
   ]
  },
  {
   "cell_type": "code",
   "execution_count": 30,
   "metadata": {},
   "outputs": [
    {
     "name": "stdout",
     "output_type": "stream",
     "text": [
      "0.4711818590391968\n",
      "0.4711706137245189\n",
      "0.4709790124514481\n",
      "0.47098953639016966\n",
      "0.4709920396968949\n",
      "0.4709920367971439\n",
      "0.4709920078220664\n",
      "0.4709917180909713\n",
      "0.47098882075084125\n",
      "0.47095984739463\n",
      "0.5060514168834636\n",
      "1.4095220276457676\n"
     ]
    }
   ],
   "source": [
    "c = 10.0 ** np.arange(-4, 8)\n",
    "for i in c:\n",
    "    svr_lin = svm.SVR(kernel='linear', C = i, epsilon = 0.01, degree=3, gamma = 6, coef0 = 1)\n",
    "    svr_lin.fit(X, y)\n",
    "    print(mean_absolute_error(y, svr_lin.predict(X)))"
   ]
  },
  {
   "cell_type": "code",
   "execution_count": 47,
   "metadata": {},
   "outputs": [
    {
     "name": "stdout",
     "output_type": "stream",
     "text": [
      "The best classifier is:  SVR(C=0.0001, coef0=1, epsilon=0.01, gamma=6, kernel='linear')\n",
      "-----------------------------------\n"
     ]
    },
    {
     "data": {
      "text/plain": [
       "{'mean_fit_time': array([0.00100374, 0.00100265, 0.00059261, 0.00079803, 0.00079808,\n",
       "        0.0021946 , 0.00538535, 0.0498651 ]),\n",
       " 'std_fit_time': array([1.15282225e-05, 1.24969549e-05, 4.83964924e-04, 3.99018502e-04,\n",
       "        3.99041642e-04, 7.47068407e-04, 1.94211761e-03, 1.57646942e-02]),\n",
       " 'mean_score_time': array([0.00060086, 0.00019932, 0.00060468, 0.00059791, 0.00039902,\n",
       "        0.00099669, 0.00039926, 0.00040059]),\n",
       " 'std_score_time': array([0.00049065, 0.00039864, 0.00049384, 0.00048819, 0.00048869,\n",
       "        0.00109119, 0.00048899, 0.00049063]),\n",
       " 'param_C': masked_array(data=[0.0001, 0.001, 0.01, 0.1, 1.0, 10.0, 100.0, 1000.0],\n",
       "              mask=[False, False, False, False, False, False, False, False],\n",
       "        fill_value='?',\n",
       "             dtype=object),\n",
       " 'params': [{'C': 0.0001},\n",
       "  {'C': 0.001},\n",
       "  {'C': 0.01},\n",
       "  {'C': 0.1},\n",
       "  {'C': 1.0},\n",
       "  {'C': 10.0},\n",
       "  {'C': 100.0},\n",
       "  {'C': 1000.0}],\n",
       " 'split0_test_score': array([-12.17918338, -13.85362917, -34.10714357, -53.79205905,\n",
       "        -60.93081334, -60.93029412, -60.92511161, -60.8732934 ]),\n",
       " 'split1_test_score': array([-2.50501646, -2.72471331, -4.47285927, -5.23200054, -5.23200088,\n",
       "        -5.23200439, -5.23203941, -5.23157573]),\n",
       " 'split2_test_score': array([-0.72009805, -0.74397323, -0.8013836 , -0.8062165 , -0.80621638,\n",
       "        -0.80621515, -0.80620286, -0.80607996]),\n",
       " 'split3_test_score': array([-0.63694766, -0.64310776, -0.7115817 , -0.709191  , -0.70919097,\n",
       "        -0.70919067, -0.70918763, -0.70915726]),\n",
       " 'split4_test_score': array([ -414.60303137,  -535.77223656, -1821.00814042, -2511.04881525,\n",
       "        -3058.58057723, -3058.58718369, -3076.66599704, -3059.31414157]),\n",
       " 'mean_test_score': array([ -86.12885539, -110.747532  , -372.22022171, -514.31765647,\n",
       "        -625.25175976, -625.2529776 , -628.86770771, -625.38684958]),\n",
       " 'std_test_score': array([ 164.29260898,  212.56863571,  724.50198516,  998.56647312,\n",
       "        1216.87776073, 1216.8804508 , 1224.11119468, 1217.17653104]),\n",
       " 'rank_test_score': array([1, 2, 3, 4, 5, 6, 8, 7])}"
      ]
     },
     "execution_count": 47,
     "metadata": {},
     "output_type": "execute_result"
    }
   ],
   "source": [
    "c = 10.0 ** np.arange(-4, 4)\n",
    "param_grid = dict(C=c.tolist())\n",
    "svr = svm.SVR(kernel='linear', epsilon = 0.01, degree=3, gamma = 6, coef0 = 1)\n",
    "grid = model_selection.GridSearchCV(svr, param_grid)\n",
    "grid.fit(X, y)\n",
    "\n",
    "print(\"The best classifier is: \", grid.best_estimator_)\n",
    "print(\"-----------------------------------\")\n",
    "grid.cv_results_"
   ]
  },
  {
   "cell_type": "code",
   "execution_count": 46,
   "metadata": {},
   "outputs": [
    {
     "name": "stdout",
     "output_type": "stream",
     "text": [
      "The best classifier is:  SVR(C=0.0001, coef0=1, epsilon=0.01, gamma=6, kernel='poly')\n",
      "-----------------------------------\n"
     ]
    },
    {
     "data": {
      "text/plain": [
       "{'mean_fit_time': array([9.97591019e-04, 9.96446609e-04, 1.59626007e-03, 4.59456444e-03,\n",
       "        2.37308979e-02, 3.12999153e-01, 4.07862029e+00, 1.45318443e+01]),\n",
       " 'std_fit_time': array([7.74768677e-07, 6.30147974e-04, 4.88656019e-04, 2.87160450e-03,\n",
       "        9.89098684e-03, 2.00814510e-01, 1.67403201e+00, 5.13924778e+00]),\n",
       " 'mean_score_time': array([0.00039883, 0.00059896, 0.00019917, 0.00020013, 0.0010046 ,\n",
       "        0.00099759, 0.00039892, 0.00039635]),\n",
       " 'std_score_time': array([4.88460855e-04, 4.89045045e-04, 3.98349762e-04, 4.00257111e-04,\n",
       "        1.06278007e-05, 1.74811390e-06, 4.88577842e-04, 4.85613678e-04]),\n",
       " 'param_C': masked_array(data=[0.0001, 0.001, 0.01, 0.1, 1.0, 10.0, 100.0, 1000.0],\n",
       "              mask=[False, False, False, False, False, False, False, False],\n",
       "        fill_value='?',\n",
       "             dtype=object),\n",
       " 'params': [{'C': 0.0001},\n",
       "  {'C': 0.001},\n",
       "  {'C': 0.01},\n",
       "  {'C': 0.1},\n",
       "  {'C': 1.0},\n",
       "  {'C': 10.0},\n",
       "  {'C': 100.0},\n",
       "  {'C': 1000.0}],\n",
       " 'split0_test_score': array([ -0.20593687, -92.13209248, -42.72800496, -17.85906714,\n",
       "        -17.12378774, -17.11667475, -11.44420066,  -2.27414909]),\n",
       " 'split1_test_score': array([ -1.89909895, -14.67071887,  -7.35777469,  -6.32717015,\n",
       "         -6.32737853,  -6.27882536,  -6.40889664, -64.35575231]),\n",
       " 'split2_test_score': array([-0.59308501, -0.55400374, -0.54587932, -0.53651657, -0.54676945,\n",
       "        -0.54573885, -0.52291442, -0.48362762]),\n",
       " 'split3_test_score': array([-0.57335007, -0.53884597, -0.48785143, -0.4750734 , -0.46841175,\n",
       "        -0.46669677, -0.45699038, -0.43083551]),\n",
       " 'split4_test_score': array([  -240.03698616,  -1582.23725925,  -9023.0151075 , -10431.35985806,\n",
       "        -10485.40724418, -10481.44708131, -10405.98130941, -13730.70370136]),\n",
       " 'mean_test_score': array([  -48.66169141,  -338.02658406, -1814.82692358, -2091.31153706,\n",
       "        -2101.97471833, -2101.17100341, -2084.9628623 , -2759.64961318]),\n",
       " 'std_test_score': array([  95.68937573,  623.0359599 , 3604.12813792, 4170.02897486,\n",
       "        4191.72065558, 4190.14242981, 4160.51123906, 5485.58185521]),\n",
       " 'rank_test_score': array([1, 2, 3, 5, 7, 6, 4, 8])}"
      ]
     },
     "execution_count": 46,
     "metadata": {},
     "output_type": "execute_result"
    }
   ],
   "source": [
    "c = 10.0 ** np.arange(-4, 4)\n",
    "param_grid = dict(C=c.tolist())\n",
    "svr = svm.SVR(kernel='poly', epsilon = 0.01, degree=3, gamma = 6, coef0 = 1)\n",
    "grid = model_selection.GridSearchCV(svr, param_grid)\n",
    "grid.fit(X, y)\n",
    "\n",
    "print(\"The best classifier is: \", grid.best_estimator_)\n",
    "print(\"-----------------------------------\")\n",
    "grid.cv_results_"
   ]
  },
  {
   "cell_type": "code",
   "execution_count": 45,
   "metadata": {},
   "outputs": [
    {
     "name": "stdout",
     "output_type": "stream",
     "text": [
      "The best classifier is:  SVR(C=0.1, coef0=1, epsilon=0.01, gamma=6)\n",
      "-----------------------------------\n"
     ]
    },
    {
     "data": {
      "text/plain": [
       "{'mean_fit_time': array([0.00099788, 0.00059786, 0.00079784, 0.00059805, 0.00099831,\n",
       "        0.00179558, 0.00618286, 0.04580545]),\n",
       " 'std_fit_time': array([6.31203462e-04, 4.88149883e-04, 3.98923847e-04, 4.88306130e-04,\n",
       "        1.84924311e-06, 3.97945575e-04, 1.93443177e-03, 8.75749941e-03]),\n",
       " 'mean_score_time': array([0.0007977 , 0.000599  , 0.00059824, 0.00039864, 0.00059776,\n",
       "        0.00119648, 0.00059829, 0.00059872]),\n",
       " 'std_score_time': array([0.00039885, 0.00048908, 0.00079706, 0.00048823, 0.00048807,\n",
       "        0.00039978, 0.0004885 , 0.00048885]),\n",
       " 'param_C': masked_array(data=[0.0001, 0.001, 0.01, 0.1, 1.0, 10.0, 100.0, 1000.0],\n",
       "              mask=[False, False, False, False, False, False, False, False],\n",
       "        fill_value='?',\n",
       "             dtype=object),\n",
       " 'params': [{'C': 0.0001},\n",
       "  {'C': 0.001},\n",
       "  {'C': 0.01},\n",
       "  {'C': 0.1},\n",
       "  {'C': 1.0},\n",
       "  {'C': 10.0},\n",
       "  {'C': 100.0},\n",
       "  {'C': 1000.0}],\n",
       " 'split0_test_score': array([  -11.87486546,   -11.14129714,    -8.0042029 ,   -19.61673716,\n",
       "          -55.28173547,   -31.76839748,   -56.19953036, -1110.35708971]),\n",
       " 'split1_test_score': array([-2.42188378e+00, -1.92529058e+00,  5.62082503e-01,  3.34345672e-01,\n",
       "        -3.72683965e-01, -2.53061272e+00, -3.18431699e+02, -3.60907433e+02]),\n",
       " 'split2_test_score': array([-0.71705945, -0.71301958, -0.66584073, -0.20473101,  0.58619877,\n",
       "        -2.20299933, -0.11158061,  0.49317033]),\n",
       " 'split3_test_score': array([-0.63600011, -0.63434972, -0.60536277, -0.34591096,  0.42618561,\n",
       "         0.53888958, -2.57189857, -6.9155946 ]),\n",
       " 'split4_test_score': array([   -403.09081709,    -387.11013471,    -389.11589223,\n",
       "           -327.59462219,   -1842.73746527,    -558.8226637 ,\n",
       "          -8495.903015  , -120135.69893236]),\n",
       " 'mean_test_score': array([   -83.74812518,    -80.30481835,    -79.56584323,    -69.48553113,\n",
       "          -379.47590007,   -118.95715673,  -1774.6435447 , -24322.67717587]),\n",
       " 'std_test_score': array([  159.7255528 ,   153.45271792,   154.80487948,   129.27654933,\n",
       "          731.94648803,   220.2496413 ,  3362.68146716, 47908.21689036]),\n",
       " 'rank_test_score': array([4, 3, 2, 1, 6, 5, 7, 8])}"
      ]
     },
     "execution_count": 45,
     "metadata": {},
     "output_type": "execute_result"
    }
   ],
   "source": [
    "C_range = 10.0 ** np.arange(-4, 4)\n",
    "param_grid = dict(C=c.tolist())\n",
    "svr = svm.SVR(kernel='rbf', epsilon = 0.01, gamma = 6, coef0 = 1)\n",
    "grid = model_selection.GridSearchCV(svr, param_grid)\n",
    "grid.fit(X, y)\n",
    "\n",
    "print(\"The best classifier is: \", grid.best_estimator_)\n",
    "print(\"-----------------------------------\")\n",
    "grid.cv_results_"
   ]
  },
  {
   "cell_type": "raw",
   "metadata": {},
   "source": [
    "from __future__ import print_function\n",
    "\n",
    "from sklearn.model_selection import train_test_split\n",
    "from sklearn.model_selection import GridSearchCV\n",
    "from sklearn.metrics import classification_report\n",
    "from sklearn.svm import SVR\n",
    "\n",
    "X_train, X_test, y_train, y_test = train_test_split(X, y, test_size=0.5, random_state=0)\n",
    "\n",
    "# Set the parameters by cross-validation\n",
    "tuned_parameters = [\n",
    " {'C': [1, 10, 100, 1000], 'kernel': ['linear']},\n",
    " {'C': [1, 10, 100, 1000],  'degree': [3] ,'gamma': [6], 'kernel': ['poly'], 'coef0': [1]},\n",
    " {'C': [1, 10, 100, 1000], 'gamma': [6], 'kernel': ['rbf'], 'coef0': [1]}\n",
    "]\n",
    "\n",
    "scores = ['precision', 'recall']\n",
    "\n",
    "for score in scores:\n",
    "    print(\"# Tuning hyper-parameters for %s\" % score)\n",
    "    print()\n",
    "\n",
    "    clf = GridSearchCV(SVR(C=1), tuned_parameters, cv=5,\n",
    "                       scoring='%s_weighted' % score)\n",
    "    clf.fit(X_train, y_train)\n",
    "    clf.score(X_test, y_test)\n",
    "\n",
    "    print(\"Best parameters set found on development set:\")\n",
    "    print()\n",
    "    print(clf.best_params_)\n",
    "    print()\n",
    "    print(\"Grid scores on development set:\")\n",
    "    print()\n",
    "    for params, mean_score, scores in clf.cv_scores_:\n",
    "        print(\"%0.3f (+/-%0.03f) for %r\"\n",
    "              % (mean_score, scores.std() * 2, params))\n",
    "    print()\n",
    "\n",
    "    print(\"Detailed classification report:\")\n",
    "    print()\n",
    "    print(\"The model is trained on the full development set.\")\n",
    "    print(\"The scores are computed on the full evaluation set.\")\n",
    "    print()\n",
    "    y_true, y_pred = y_test, clf.predict(X_test)\n",
    "    print(classification_report(y_true, y_pred))\n",
    "    print()"
   ]
  },
  {
   "cell_type": "code",
   "execution_count": 56,
   "metadata": {},
   "outputs": [
    {
     "name": "stdout",
     "output_type": "stream",
     "text": [
      "0.956352568240843\n"
     ]
    },
    {
     "data": {
      "image/png": "[encoded data removed]",
      "text/plain": [
       "<Figure size 1000x700 with 1 Axes>"
      ]
     },
     "metadata": {},
     "output_type": "display_data"
    }
   ],
   "source": [
    "#RBF Kernel\n",
    "svr_rbf = svm.SVR(kernel='rbf', C=10, gamma = 6, coef0 = 1)\n",
    "svr_rbf.fit(X, y)\n",
    "print(svr_rbf.score(X,y))\n",
    "\n",
    "plt.figure(figsize=(10,7)) \n",
    "plt.scatter(X, y, c = [[1, 0, 0]], label = 'y(x)') \n",
    "plt.plot(X, svr_rbf.predict(X), c = 'y', label = 'predictions') \n",
    "plt.legend()\n",
    "plt.show()"
   ]
  },
  {
   "cell_type": "markdown",
   "metadata": {},
   "source": [
    "# Определение языка слова (7 баллов)"
   ]
  },
  {
   "cell_type": "markdown",
   "metadata": {},
   "source": [
    "В данном задании вам необходимо определить, на каком языке написано слово.\n",
    "\n",
    "Даны два текста - первые предложения произведения \"Война и Мир\" на английком и испанском, разбитые на слова."
   ]
  },
  {
   "cell_type": "markdown",
   "metadata": {},
   "source": [
    "## Загрузка (1 балл)\n",
    "\n",
    "Загрузите данные из файлов *war_and_peace_es.txt* и *war_and_peace_en.txt*.<br/> \n",
    "В результате вы должны получить pandas.DataFrame со столбцами *index* | *word* | *label*, где *index* - это индекс pandas, *word* - это слово и *label* - это метка класса (0 или 1)"
   ]
  },
  {
   "cell_type": "code",
   "execution_count": 62,
   "metadata": {},
   "outputs": [
    {
     "data": {
      "text/html": [
       "<div>\n",
       "<style scoped>\n",
       "    .dataframe tbody tr th:only-of-type {\n",
       "        vertical-align: middle;\n",
       "    }\n",
       "\n",
       "    .dataframe tbody tr th {\n",
       "        vertical-align: top;\n",
       "    }\n",
       "\n",
       "    .dataframe thead th {\n",
       "        text-align: right;\n",
       "    }\n",
       "</style>\n",
       "<table border=\"1\" class=\"dataframe\">\n",
       "  <thead>\n",
       "    <tr style=\"text-align: right;\">\n",
       "      <th></th>\n",
       "      <th>word</th>\n",
       "      <th>label</th>\n",
       "    </tr>\n",
       "  </thead>\n",
       "  <tbody>\n",
       "    <tr>\n",
       "      <th>0</th>\n",
       "      <td>pace</td>\n",
       "      <td>0</td>\n",
       "    </tr>\n",
       "    <tr>\n",
       "      <th>1</th>\n",
       "      <td>lev</td>\n",
       "      <td>0</td>\n",
       "    </tr>\n",
       "    <tr>\n",
       "      <th>2</th>\n",
       "      <td>nicoevic</td>\n",
       "      <td>0</td>\n",
       "    </tr>\n",
       "    <tr>\n",
       "      <th>3</th>\n",
       "      <td>tolstj</td>\n",
       "      <td>0</td>\n",
       "    </tr>\n",
       "    <tr>\n",
       "      <th>4</th>\n",
       "      <td>traduzione</td>\n",
       "      <td>0</td>\n",
       "    </tr>\n",
       "  </tbody>\n",
       "</table>\n",
       "</div>"
      ],
      "text/plain": [
       "         word label\n",
       "0        pace     0\n",
       "1         lev     0\n",
       "2    nicoevic     0\n",
       "3      tolstj     0\n",
       "4  traduzione     0"
      ]
     },
     "execution_count": 62,
     "metadata": {},
     "output_type": "execute_result"
    }
   ],
   "source": [
    "df_es = pd.read_csv('/Users/novle/Documents/GitHub/Binary-classification-problem--language-recognition-/war_and_peace_es.txt')\n",
    "df_es = df_es.rename(columns={'guerra': 'word'})[::]\n",
    "df_es.insert(loc=1, column='label', value='0')\n",
    "df_es.head()"
   ]
  },
  {
   "cell_type": "code",
   "execution_count": 63,
   "metadata": {},
   "outputs": [
    {
     "data": {
      "text/html": [
       "<div>\n",
       "<style scoped>\n",
       "    .dataframe tbody tr th:only-of-type {\n",
       "        vertical-align: middle;\n",
       "    }\n",
       "\n",
       "    .dataframe tbody tr th {\n",
       "        vertical-align: top;\n",
       "    }\n",
       "\n",
       "    .dataframe thead th {\n",
       "        text-align: right;\n",
       "    }\n",
       "</style>\n",
       "<table border=\"1\" class=\"dataframe\">\n",
       "  <thead>\n",
       "    <tr style=\"text-align: right;\">\n",
       "      <th></th>\n",
       "      <th>word</th>\n",
       "      <th>label</th>\n",
       "    </tr>\n",
       "  </thead>\n",
       "  <tbody>\n",
       "    <tr>\n",
       "      <th>0</th>\n",
       "      <td>guerra</td>\n",
       "      <td>0</td>\n",
       "    </tr>\n",
       "  </tbody>\n",
       "</table>\n",
       "</div>"
      ],
      "text/plain": [
       "     word  label\n",
       "0  guerra      0"
      ]
     },
     "execution_count": 63,
     "metadata": {},
     "output_type": "execute_result"
    }
   ],
   "source": [
    "data_0 = pd.DataFrame({\"word\": \"guerra\", \"label\": 0}, index=[0])\n",
    "data_0.head()"
   ]
  },
  {
   "cell_type": "code",
   "execution_count": 64,
   "metadata": {},
   "outputs": [
    {
     "data": {
      "text/html": [
       "<div>\n",
       "<style scoped>\n",
       "    .dataframe tbody tr th:only-of-type {\n",
       "        vertical-align: middle;\n",
       "    }\n",
       "\n",
       "    .dataframe tbody tr th {\n",
       "        vertical-align: top;\n",
       "    }\n",
       "\n",
       "    .dataframe thead th {\n",
       "        text-align: right;\n",
       "    }\n",
       "</style>\n",
       "<table border=\"1\" class=\"dataframe\">\n",
       "  <thead>\n",
       "    <tr style=\"text-align: right;\">\n",
       "      <th></th>\n",
       "      <th>word</th>\n",
       "      <th>label</th>\n",
       "    </tr>\n",
       "  </thead>\n",
       "  <tbody>\n",
       "    <tr>\n",
       "      <th>0</th>\n",
       "      <td>guerra</td>\n",
       "      <td>0</td>\n",
       "    </tr>\n",
       "    <tr>\n",
       "      <th>1</th>\n",
       "      <td>pace</td>\n",
       "      <td>0</td>\n",
       "    </tr>\n",
       "    <tr>\n",
       "      <th>2</th>\n",
       "      <td>lev</td>\n",
       "      <td>0</td>\n",
       "    </tr>\n",
       "    <tr>\n",
       "      <th>3</th>\n",
       "      <td>nicoevic</td>\n",
       "      <td>0</td>\n",
       "    </tr>\n",
       "    <tr>\n",
       "      <th>4</th>\n",
       "      <td>tolstj</td>\n",
       "      <td>0</td>\n",
       "    </tr>\n",
       "  </tbody>\n",
       "</table>\n",
       "</div>"
      ],
      "text/plain": [
       "       word label\n",
       "0    guerra     0\n",
       "1      pace     0\n",
       "2       lev     0\n",
       "3  nicoevic     0\n",
       "4    tolstj     0"
      ]
     },
     "execution_count": 64,
     "metadata": {},
     "output_type": "execute_result"
    }
   ],
   "source": [
    "Frame_es = data_0.append(df_es, ignore_index=True)\n",
    "Frame_es.head()"
   ]
  },
  {
   "cell_type": "code",
   "execution_count": 60,
   "metadata": {},
   "outputs": [],
   "source": [
    "# English"
   ]
  },
  {
   "cell_type": "code",
   "execution_count": 65,
   "metadata": {},
   "outputs": [
    {
     "data": {
      "text/html": [
       "<div>\n",
       "<style scoped>\n",
       "    .dataframe tbody tr th:only-of-type {\n",
       "        vertical-align: middle;\n",
       "    }\n",
       "\n",
       "    .dataframe tbody tr th {\n",
       "        vertical-align: top;\n",
       "    }\n",
       "\n",
       "    .dataframe thead th {\n",
       "        text-align: right;\n",
       "    }\n",
       "</style>\n",
       "<table border=\"1\" class=\"dataframe\">\n",
       "  <thead>\n",
       "    <tr style=\"text-align: right;\">\n",
       "      <th></th>\n",
       "      <th>word</th>\n",
       "      <th>label</th>\n",
       "    </tr>\n",
       "  </thead>\n",
       "  <tbody>\n",
       "    <tr>\n",
       "      <th>0</th>\n",
       "      <td>and</td>\n",
       "      <td>1</td>\n",
       "    </tr>\n",
       "    <tr>\n",
       "      <th>1</th>\n",
       "      <td>peace</td>\n",
       "      <td>1</td>\n",
       "    </tr>\n",
       "    <tr>\n",
       "      <th>2</th>\n",
       "      <td>leo</td>\n",
       "      <td>1</td>\n",
       "    </tr>\n",
       "    <tr>\n",
       "      <th>3</th>\n",
       "      <td>tolstoy</td>\n",
       "      <td>1</td>\n",
       "    </tr>\n",
       "    <tr>\n",
       "      <th>4</th>\n",
       "      <td>book</td>\n",
       "      <td>1</td>\n",
       "    </tr>\n",
       "  </tbody>\n",
       "</table>\n",
       "</div>"
      ],
      "text/plain": [
       "      word label\n",
       "0      and     1\n",
       "1    peace     1\n",
       "2      leo     1\n",
       "3  tolstoy     1\n",
       "4     book     1"
      ]
     },
     "execution_count": 65,
     "metadata": {},
     "output_type": "execute_result"
    }
   ],
   "source": [
    "df_en = pd.read_csv('/Users/novle/Documents/GitHub/Binary-classification-problem--language-recognition-/war_and_peace_en.txt')\n",
    "df_en = df_en.rename(columns={'war': 'word'})[::]\n",
    "df_en.insert(loc=1, column='label', value='1')\n",
    "df_en.head()"
   ]
  },
  {
   "cell_type": "code",
   "execution_count": 66,
   "metadata": {},
   "outputs": [
    {
     "data": {
      "text/html": [
       "<div>\n",
       "<style scoped>\n",
       "    .dataframe tbody tr th:only-of-type {\n",
       "        vertical-align: middle;\n",
       "    }\n",
       "\n",
       "    .dataframe tbody tr th {\n",
       "        vertical-align: top;\n",
       "    }\n",
       "\n",
       "    .dataframe thead th {\n",
       "        text-align: right;\n",
       "    }\n",
       "</style>\n",
       "<table border=\"1\" class=\"dataframe\">\n",
       "  <thead>\n",
       "    <tr style=\"text-align: right;\">\n",
       "      <th></th>\n",
       "      <th>word</th>\n",
       "      <th>label</th>\n",
       "    </tr>\n",
       "  </thead>\n",
       "  <tbody>\n",
       "    <tr>\n",
       "      <th>0</th>\n",
       "      <td>war</td>\n",
       "      <td>1</td>\n",
       "    </tr>\n",
       "  </tbody>\n",
       "</table>\n",
       "</div>"
      ],
      "text/plain": [
       "  word  label\n",
       "0  war      1"
      ]
     },
     "execution_count": 66,
     "metadata": {},
     "output_type": "execute_result"
    }
   ],
   "source": [
    "data_1 = pd.DataFrame({'word': 'war', \"label\": 1}, index=[0])\n",
    "data_1.head()"
   ]
  },
  {
   "cell_type": "code",
   "execution_count": 67,
   "metadata": {},
   "outputs": [
    {
     "data": {
      "text/html": [
       "<div>\n",
       "<style scoped>\n",
       "    .dataframe tbody tr th:only-of-type {\n",
       "        vertical-align: middle;\n",
       "    }\n",
       "\n",
       "    .dataframe tbody tr th {\n",
       "        vertical-align: top;\n",
       "    }\n",
       "\n",
       "    .dataframe thead th {\n",
       "        text-align: right;\n",
       "    }\n",
       "</style>\n",
       "<table border=\"1\" class=\"dataframe\">\n",
       "  <thead>\n",
       "    <tr style=\"text-align: right;\">\n",
       "      <th></th>\n",
       "      <th>word</th>\n",
       "      <th>label</th>\n",
       "    </tr>\n",
       "  </thead>\n",
       "  <tbody>\n",
       "    <tr>\n",
       "      <th>0</th>\n",
       "      <td>war</td>\n",
       "      <td>1</td>\n",
       "    </tr>\n",
       "    <tr>\n",
       "      <th>1</th>\n",
       "      <td>and</td>\n",
       "      <td>1</td>\n",
       "    </tr>\n",
       "    <tr>\n",
       "      <th>2</th>\n",
       "      <td>peace</td>\n",
       "      <td>1</td>\n",
       "    </tr>\n",
       "    <tr>\n",
       "      <th>3</th>\n",
       "      <td>leo</td>\n",
       "      <td>1</td>\n",
       "    </tr>\n",
       "    <tr>\n",
       "      <th>4</th>\n",
       "      <td>tolstoy</td>\n",
       "      <td>1</td>\n",
       "    </tr>\n",
       "  </tbody>\n",
       "</table>\n",
       "</div>"
      ],
      "text/plain": [
       "      word label\n",
       "0      war     1\n",
       "1      and     1\n",
       "2    peace     1\n",
       "3      leo     1\n",
       "4  tolstoy     1"
      ]
     },
     "execution_count": 67,
     "metadata": {},
     "output_type": "execute_result"
    }
   ],
   "source": [
    "Frame_en = data_1.append(df_en, ignore_index=True)\n",
    "Frame_en.head()"
   ]
  },
  {
   "cell_type": "code",
   "execution_count": 68,
   "metadata": {},
   "outputs": [
    {
     "name": "stdout",
     "output_type": "stream",
     "text": [
      "         word label\n",
      "0        pace     0\n",
      "1         lev     0\n",
      "2    nicoevic     0\n",
      "3      tolstj     0\n",
      "4  traduzione     0\n",
      "-------------\n",
      "              word label\n",
      "5038         leave     1\n",
      "5039           her     1\n",
      "5040          task     1\n",
      "5041           was     1\n",
      "5042  accomplished     1\n"
     ]
    },
    {
     "data": {
      "text/html": [
       "<div>\n",
       "<style scoped>\n",
       "    .dataframe tbody tr th:only-of-type {\n",
       "        vertical-align: middle;\n",
       "    }\n",
       "\n",
       "    .dataframe tbody tr th {\n",
       "        vertical-align: top;\n",
       "    }\n",
       "\n",
       "    .dataframe thead th {\n",
       "        text-align: right;\n",
       "    }\n",
       "</style>\n",
       "<table border=\"1\" class=\"dataframe\">\n",
       "  <thead>\n",
       "    <tr style=\"text-align: right;\">\n",
       "      <th></th>\n",
       "      <th>word</th>\n",
       "      <th>label</th>\n",
       "    </tr>\n",
       "  </thead>\n",
       "  <tbody>\n",
       "    <tr>\n",
       "      <th>0</th>\n",
       "      <td>pace</td>\n",
       "      <td>0</td>\n",
       "    </tr>\n",
       "    <tr>\n",
       "      <th>1</th>\n",
       "      <td>lev</td>\n",
       "      <td>0</td>\n",
       "    </tr>\n",
       "    <tr>\n",
       "      <th>2</th>\n",
       "      <td>nicoevic</td>\n",
       "      <td>0</td>\n",
       "    </tr>\n",
       "    <tr>\n",
       "      <th>3</th>\n",
       "      <td>tolstj</td>\n",
       "      <td>0</td>\n",
       "    </tr>\n",
       "    <tr>\n",
       "      <th>4</th>\n",
       "      <td>traduzione</td>\n",
       "      <td>0</td>\n",
       "    </tr>\n",
       "  </tbody>\n",
       "</table>\n",
       "</div>"
      ],
      "text/plain": [
       "         word label\n",
       "0        pace     0\n",
       "1         lev     0\n",
       "2    nicoevic     0\n",
       "3      tolstj     0\n",
       "4  traduzione     0"
      ]
     },
     "execution_count": 68,
     "metadata": {},
     "output_type": "execute_result"
    }
   ],
   "source": [
    "df = pd.concat([df_es, df_en]) # Сводим два предыдущих DF в один\n",
    "print(df.head())\n",
    "print('-------------')\n",
    "print(df.tail())\n",
    "df.head()"
   ]
  },
  {
   "cell_type": "markdown",
   "metadata": {},
   "source": [
    "## Подготовка данных (2 балла)\n",
    "\n",
    "Особенностью пользовательского ядра в sklean.SVC является то, что на вход оно должно принимать вектора чисел.<br/>\n",
    "В нашем случае это будут индексы соответствующих слов из корпуса. То есть вместо вектора ['treat', 'celebrit', 'prince', ...] на вход в ядро подается вектор из индексов [9209, 11145, 7735, ...] с помощью которых вы будете находить сами слова.\n",
    "\n",
    "Прежде чем мы начнем строить ядро, надо подготовить данные. Для этого:\n",
    "1. Задайте переменную RND_SEED, которая будет использоваться в любых генераторах случайных чисел в вашем коде (обычно параметр \"random_seed\")\n",
    "2. Случайным образом перемешайте и заново проиндексируйте таблицу, полученную выше (используйте методы df.sample() и df.reset_index())\n",
    "3. Ядро может вычисляться достаточно долго, поэтому можете урезать таблицу, но оставить в ней не менее 1000 слов.\n",
    "4. Разбейте данные на обучающую и контрольную выборку в пропорции 60/40\n",
    "\n",
    "В результате вы должны получить вектор-столбец X_train, X_test с **индексами** слов и векторы y_train, y_test с метками классов."
   ]
  },
  {
   "cell_type": "code",
   "execution_count": 70,
   "metadata": {},
   "outputs": [],
   "source": [
    "from sklearn.model_selection import train_test_split"
   ]
  },
  {
   "cell_type": "code",
   "execution_count": 71,
   "metadata": {},
   "outputs": [],
   "source": [
    "RND_SEED = np.random.seed(10)"
   ]
  },
  {
   "cell_type": "code",
   "execution_count": 72,
   "metadata": {},
   "outputs": [
    {
     "data": {
      "text/html": [
       "<div>\n",
       "<style scoped>\n",
       "    .dataframe tbody tr th:only-of-type {\n",
       "        vertical-align: middle;\n",
       "    }\n",
       "\n",
       "    .dataframe tbody tr th {\n",
       "        vertical-align: top;\n",
       "    }\n",
       "\n",
       "    .dataframe thead th {\n",
       "        text-align: right;\n",
       "    }\n",
       "</style>\n",
       "<table border=\"1\" class=\"dataframe\">\n",
       "  <thead>\n",
       "    <tr style=\"text-align: right;\">\n",
       "      <th></th>\n",
       "      <th>word</th>\n",
       "      <th>label</th>\n",
       "    </tr>\n",
       "  </thead>\n",
       "  <tbody>\n",
       "    <tr>\n",
       "      <th>0</th>\n",
       "      <td>nessuno</td>\n",
       "      <td>0</td>\n",
       "    </tr>\n",
       "    <tr>\n",
       "      <th>1</th>\n",
       "      <td>dont</td>\n",
       "      <td>1</td>\n",
       "    </tr>\n",
       "    <tr>\n",
       "      <th>2</th>\n",
       "      <td>drawing</td>\n",
       "      <td>1</td>\n",
       "    </tr>\n",
       "    <tr>\n",
       "      <th>3</th>\n",
       "      <td>porto</td>\n",
       "      <td>0</td>\n",
       "    </tr>\n",
       "    <tr>\n",
       "      <th>4</th>\n",
       "      <td>alla</td>\n",
       "      <td>0</td>\n",
       "    </tr>\n",
       "    <tr>\n",
       "      <th>...</th>\n",
       "      <td>...</td>\n",
       "      <td>...</td>\n",
       "    </tr>\n",
       "    <tr>\n",
       "      <th>995</th>\n",
       "      <td>dull</td>\n",
       "      <td>1</td>\n",
       "    </tr>\n",
       "    <tr>\n",
       "      <th>996</th>\n",
       "      <td>have</td>\n",
       "      <td>1</td>\n",
       "    </tr>\n",
       "    <tr>\n",
       "      <th>997</th>\n",
       "      <td>europe</td>\n",
       "      <td>1</td>\n",
       "    </tr>\n",
       "    <tr>\n",
       "      <th>998</th>\n",
       "      <td>meet</td>\n",
       "      <td>1</td>\n",
       "    </tr>\n",
       "    <tr>\n",
       "      <th>999</th>\n",
       "      <td>himself</td>\n",
       "      <td>1</td>\n",
       "    </tr>\n",
       "  </tbody>\n",
       "</table>\n",
       "<p>1000 rows × 2 columns</p>\n",
       "</div>"
      ],
      "text/plain": [
       "        word label\n",
       "0    nessuno     0\n",
       "1       dont     1\n",
       "2    drawing     1\n",
       "3      porto     0\n",
       "4       alla     0\n",
       "..       ...   ...\n",
       "995     dull     1\n",
       "996     have     1\n",
       "997   europe     1\n",
       "998     meet     1\n",
       "999  himself     1\n",
       "\n",
       "[1000 rows x 2 columns]"
      ]
     },
     "execution_count": 72,
     "metadata": {},
     "output_type": "execute_result"
    }
   ],
   "source": [
    "df = df.sample(n = 1000, random_state = RND_SEED) # Делаем из исходного df новый, состоящий из 1000 элементов\n",
    "df = df.reset_index(drop = True) # Меняем индексацию полученного на предыдущем шаге df\n",
    "df[::]"
   ]
  },
  {
   "cell_type": "code",
   "execution_count": 73,
   "metadata": {},
   "outputs": [],
   "source": [
    "X = df['word'] # Присвоим переменной Х столбeц df с индексами, а переменной у столбец \"label\"\n",
    "y = df[\"label\"] \n",
    "\n",
    "# Разобъём данные на обучающую и тестовую выборку(60/40) с уже имеющимся random_state = RND_SEED\n",
    "X_train, X_test, y_train, y_test = train_test_split(X, y, test_size=0.4, random_state = RND_SEED)"
   ]
  },
  {
   "cell_type": "code",
   "execution_count": 74,
   "metadata": {},
   "outputs": [],
   "source": [
    "X_train = X_train.index.tolist()"
   ]
  },
  {
   "cell_type": "markdown",
   "metadata": {},
   "source": [
    "## Расчет ядра (3 балла)\n",
    "\n",
    "Теперь напишем собственное ядро для классификации строк. Для сравнения строк будем использовать [расстояние Левенштейна](https://ru.wikipedia.org/wiki/Расстояние_Левенштейна). Реализацию этого расстояния можно получить одним из двух способов:\n",
    "* скопировать функцию wfi_levenshtein из файла [pylev.py](https://github.com/toastdriven/pylev/blob/master/pylev.py)\n",
    "* поставить пакет [editdistance](https://pypi.python.org/pypi/editdistance) (будет работать быстрее, чем предыдущая реализация, но могут возникнуть проблемы с установкой)\n",
    "\n",
    "Ядро для сравнения строк должно принимать максимальное значение, когда слова одинаковы, и минимальное, когда очень отличаются. Это противоположно свойствам расстояния Левенштейна: оно равно 0, когда слова одинаковы, и максимально, когда слова разные. Поэтому подставьте значение расстояния Левенштейна в какое-нибудь ядро, зависящее от расстояния между объектами (например, гауссовское).\n",
    "\n",
    "Функция, реализующая расчет ядра должна принимать две матрицы $U$ и $V$ с признаковым описанием объектов (во время обучения они обе относятся к обучающей выборке, а во время применения - одна матрица относится к обучающей выборке, а другая к контрольной).\n",
    "Функция должна возвращать матрицу значений ядра для всех объектов попарно: $G_{ij} = K(U_i, V_j)$. Здесь $U_i$ — i-ый объект выборки $U$, а $V_j$ — j-ый объект выборки $V$.\n",
    "\n",
    "Сделайте следующее:\n",
    "1. Напишите функцию *string_kernel(U, V)*, расчитывающую матрицу ядра $G_{ij}$\n",
    "2. Визуализируйте матрицу только для тренировочной выборки (функция plt.imshow()).\n"
   ]
  },
  {
   "cell_type": "code",
   "execution_count": 85,
   "metadata": {},
   "outputs": [],
   "source": [
    "def wfi_levenshtein(string_1, string_2):\n",
    "    if string_1 == string_2:\n",
    "        return 0\n",
    "    len_1 = len(string_1)\n",
    "    len_2 = len(string_2)\n",
    "    if len_1 == 0:\n",
    "        return len_2\n",
    "    if len_2 == 0:\n",
    "        return len_1\n",
    "    if len_1 > len_2:\n",
    "        string_2, string_1 = string_1, string_2\n",
    "        len_2, len_1 = len_1, len_2\n",
    "    d0 = [i for i in range(len_2 + 1)]\n",
    "    d1 = [j for j in range(len_2 + 1)]\n",
    "    \n",
    "    for i in range(len_1):\n",
    "        d1[0] = i + 1\n",
    "        for j in range(len_2):\n",
    "            cost = d0[j]\n",
    "\n",
    "            if string_1[i] != string_2[j]:\n",
    "                # substitution\n",
    "                cost += 1\n",
    "\n",
    "                # insertion\n",
    "                x_cost = d1[j] + 1\n",
    "                if x_cost < cost:\n",
    "                    cost = x_cost\n",
    "\n",
    "                # deletion\n",
    "                y_cost = d0[j + 1] + 1\n",
    "                if y_cost < cost:\n",
    "                    cost = y_cost\n",
    "\n",
    "            d1[j + 1] = cost\n",
    "\n",
    "        d0, d1 = d1, d0\n",
    "\n",
    "    return d0[-1]"
   ]
  },
  {
   "cell_type": "code",
   "execution_count": 86,
   "metadata": {},
   "outputs": [],
   "source": [
    "def string_kernel(U,V):\n",
    "    G = [0 for i in range(len(U)*len(V))]\n",
    "    for i in range(len(U)):\n",
    "        for j in range(len(V)):\n",
    "            G[i][j] = np.exp(-wfi_levenshtein(df.word[U[i]], df.word[U[j]]) ** 2)\n",
    "    return G"
   ]
  },
  {
   "cell_type": "code",
   "execution_count": 87,
   "metadata": {},
   "outputs": [
    {
     "data": {
      "text/plain": [
       "6.639677199580735e-36"
      ]
     },
     "execution_count": 87,
     "metadata": {},
     "output_type": "execute_result"
    }
   ],
   "source": [
    "np.exp(-wfi_levenshtein(df.word[X_train[2]], df.word[X_train[3]]) ** 2)"
   ]
  },
  {
   "cell_type": "raw",
   "metadata": {},
   "source": [
    "string_kernel(X_train, X_train)"
   ]
  },
  {
   "cell_type": "raw",
   "metadata": {},
   "source": [
    "def gaussianKernel(x1, x2, sigma=0.1):\n",
    "\n",
    "    #   sim = gaussianKernel(x1, x2) returns a gaussian kernel between x1 and x2\n",
    "    #   and returns the value in sim\n",
    "\n",
    "    # Ensure that x1 and x2 are column vectors\n",
    "    x1 = x1.flatten()\n",
    "    x2 = x2.flatten()\n",
    "\n",
    "    # You need to return the following variables correctly.\n",
    "    sim = 0\n",
    "\n",
    "    sim = np.exp(-np.sum(np.power((x1 - x2),2)) / float(2*(sigma**2))) \n",
    "        \n",
    "    return sim\n",
    "\n",
    "\n",
    "def gaussianKernelGramMatrix(X1, X2, K_function=gaussianKernel):\n",
    "    \"\"\"(Pre)calculates Gram Matrix K\"\"\"\n",
    "\n",
    "    gram_matrix = np.zeros((X1.shape[0], X2.shape[0]))\n",
    "    for i, x1 in enumerate(X1):\n",
    "        for j, x2 in enumerate(X2):\n",
    "            gram_matrix[i, j] = K_function(x1, x2)\n",
    "    return gram_matrix\n",
    "\n",
    "\n",
    "def gaussianKernelGramMatrix(X1, X2, sigma=0.1):\n",
    "    \"\"\"(Pre)calculates Gram Matrix K\"\"\"\n",
    "\n",
    "    gram_matrix = np.zeros((X1.shape[0], X2.shape[0]))\n",
    "    for i, x1 in enumerate(X1):\n",
    "        for j, x2 in enumerate(X2):\n",
    "            x1 = x1.flatten()\n",
    "            x2 = x2.flatten()\n",
    "            gram_matrix[i, j] = np.exp(- np.sum( np.power((x1 - x2),2) ) / float( 2*(sigma**2) ) )\n",
    "    return gram_matrix\n",
    "\n",
    "X=...\n",
    "y=...\n",
    "Xval=...\n",
    "\n",
    "C=0.1\n",
    "clf = svm.SVC(C = C, kernel=\"precomputed\")\n",
    "model = clf.fit( gaussianKernelGramMatrix(X,X), y )\n",
    "\n",
    "p = model.predict(gaussianKernelGramMatrix(Xval, X))"
   ]
  },
  {
   "cell_type": "markdown",
   "metadata": {},
   "source": [
    "## Оценка качества (1 балл)\n",
    "\n",
    "Обучите метод опорных векторов с различными значениями параметра штрафа $C$.<br/>\n",
    "Для каждого значения выведите accuracy на обучащей и контрольной выборке.\n",
    "\n",
    "Постарайтесь достичь качества в 70% на тестовой выборке. Для улучшения качества можно увеличить размер тренировочной выборки. Но тогда обучение будет происходить дольше."
   ]
  },
  {
   "cell_type": "code",
   "execution_count": null,
   "metadata": {
    "collapsed": true
   },
   "outputs": [],
   "source": []
  }
 ],
 "metadata": {
  "anaconda-cloud": {},
  "kernelspec": {
   "display_name": "Python 3 (ipykernel)",
   "language": "python",
   "name": "python3"
  },
  "language_info": {
   "codemirror_mode": {
    "name": "ipython",
    "version": 3
   },
   "file_extension": ".py",
   "mimetype": "text/x-python",
   "name": "python",
   "nbconvert_exporter": "python",
   "pygments_lexer": "ipython3",
   "version": "3.7.3"
  },
  "nav_menu": {},
  "toc": {
   "navigate_menu": true,
   "number_sections": true,
   "sideBar": true,
   "threshold": 6,
   "toc_cell": true,
   "toc_section_display": "block",
   "toc_window_display": true
  }
 },
 "nbformat": 4,
 "nbformat_minor": 1
}
